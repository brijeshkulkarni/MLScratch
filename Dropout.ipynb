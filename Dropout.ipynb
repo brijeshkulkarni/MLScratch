{
 "cells": [
  {
   "cell_type": "markdown",
   "id": "43ae4341",
   "metadata": {},
   "source": [
    "## Dropout!\n",
    "### In this notebook\n",
    "#### 1. Verifying pytorch dropout is applied only during inference, scaling of activations\n",
    "#### 2. Simplistic Implementation of dropout"
   ]
  },
  {
   "cell_type": "code",
   "execution_count": null,
   "id": "194a5de9",
   "metadata": {},
   "outputs": [],
   "source": []
  },
  {
   "cell_type": "markdown",
   "id": "2917b059",
   "metadata": {},
   "source": [
    "#### During training, randomly zeroes some of the elements of the input tensor with probability p\n",
    "#### During inference, dropout is not applied\n",
    "#### dropout output is scaled at training or inference/test (inverted dropout)"
   ]
  },
  {
   "cell_type": "code",
   "execution_count": 1,
   "id": "a2adcd5d",
   "metadata": {},
   "outputs": [],
   "source": [
    "import torch\n",
    "import torch.nn as nn"
   ]
  },
  {
   "cell_type": "markdown",
   "id": "97bdbcd6",
   "metadata": {},
   "source": [
    "#### Verifying pytorch dropout is applied only during inference, scaling of activations"
   ]
  },
  {
   "cell_type": "code",
   "execution_count": 2,
   "id": "9854b022",
   "metadata": {},
   "outputs": [],
   "source": [
    "class JustDropoutModel(nn.Module):\n",
    "    def __init__(self, dropout_prob):\n",
    "        super(JustDropoutModel, self).__init__()\n",
    "        self.dropout = nn.Dropout(p=dropout_prob,inplace=False) # inplace is set to False so that input itself is not updated\n",
    "\n",
    "    def forward(self, x):\n",
    "        x = self.dropout(x)  # Apply dropout during training\n",
    "        return x"
   ]
  },
  {
   "cell_type": "code",
   "execution_count": 3,
   "id": "1f499fdf",
   "metadata": {},
   "outputs": [
    {
     "data": {
      "text/plain": [
       "JustDropoutModel(\n",
       "  (dropout): Dropout(p=0.5, inplace=False)\n",
       ")"
      ]
     },
     "execution_count": 3,
     "metadata": {},
     "output_type": "execute_result"
    }
   ],
   "source": [
    "model = JustDropoutModel(0.5)\n",
    "model.train() # Mode of model to training"
   ]
  },
  {
   "cell_type": "code",
   "execution_count": 4,
   "id": "84da9eaf",
   "metadata": {},
   "outputs": [
    {
     "data": {
      "text/plain": [
       "tensor([[ 0.1984, -1.0945],\n",
       "        [-0.2061,  1.8554]])"
      ]
     },
     "execution_count": 4,
     "metadata": {},
     "output_type": "execute_result"
    }
   ],
   "source": [
    "X = torch.randn(2, 2)\n",
    "X"
   ]
  },
  {
   "cell_type": "code",
   "execution_count": 5,
   "id": "7cbcc60b",
   "metadata": {},
   "outputs": [
    {
     "data": {
      "text/plain": [
       "tensor([[0.3968, -0.0000],\n",
       "        [-0.0000, 0.0000]])"
      ]
     },
     "execution_count": 5,
     "metadata": {},
     "output_type": "execute_result"
    }
   ],
   "source": [
    "model(X)"
   ]
  },
  {
   "cell_type": "code",
   "execution_count": 8,
   "id": "e58aaef9",
   "metadata": {},
   "outputs": [],
   "source": [
    "# Randomly made some input to zero\n",
    "# Scaled the other outputs by 1/(1-p) Ex: 0.1984/(1-0.5)=0.3968\n",
    "# Scaling during training time as it is a inverted dropout"
   ]
  },
  {
   "cell_type": "code",
   "execution_count": null,
   "id": "46b8540f",
   "metadata": {},
   "outputs": [],
   "source": []
  },
  {
   "cell_type": "code",
   "execution_count": 6,
   "id": "e46f0252",
   "metadata": {
    "scrolled": true
   },
   "outputs": [
    {
     "data": {
      "text/plain": [
       "JustDropoutModel(\n",
       "  (dropout): Dropout(p=0.5, inplace=False)\n",
       ")"
      ]
     },
     "execution_count": 6,
     "metadata": {},
     "output_type": "execute_result"
    }
   ],
   "source": [
    "#putting model into inference mode\n",
    "model.eval()"
   ]
  },
  {
   "cell_type": "code",
   "execution_count": 7,
   "id": "ced5d4b0",
   "metadata": {
    "scrolled": true
   },
   "outputs": [
    {
     "data": {
      "text/plain": [
       "tensor([[ 0.1984, -1.0945],\n",
       "        [-0.2061,  1.8554]])"
      ]
     },
     "execution_count": 7,
     "metadata": {},
     "output_type": "execute_result"
    }
   ],
   "source": [
    "model(X)\n",
    "# no Change during inference phase"
   ]
  },
  {
   "cell_type": "markdown",
   "id": "45c672a7",
   "metadata": {},
   "source": [
    "#### Simplistic Implementation of dropout"
   ]
  },
  {
   "cell_type": "code",
   "execution_count": 15,
   "id": "51eeefb0",
   "metadata": {},
   "outputs": [],
   "source": [
    "class JustDropoutModelImpl(nn.Module):\n",
    "    def __init__(self, dropout_prob):\n",
    "        super(JustDropoutModelImpl, self).__init__()\n",
    "        self.dropout_prob=dropout_prob\n",
    "       \n",
    "    def forward(self, x):\n",
    "        x = self.dropout(x,self.dropout_prob)\n",
    "        return x\n",
    "    \n",
    "    \n",
    "    def dropout(self, x, dropout_prob):\n",
    "        if self.training:  # dropout only for training, return as is for inference\n",
    "            mask = (torch.rand(x.shape) > dropout_prob).float()\n",
    "            x = x * mask / (1.0 - dropout_prob) # xcale the activations like pytorch droput does\n",
    "        return x"
   ]
  },
  {
   "cell_type": "code",
   "execution_count": 21,
   "id": "d8631726",
   "metadata": {},
   "outputs": [],
   "source": [
    "#repeating what we did for pytorch dropout"
   ]
  },
  {
   "cell_type": "code",
   "execution_count": 16,
   "id": "c9d51782",
   "metadata": {},
   "outputs": [
    {
     "data": {
      "text/plain": [
       "JustDropoutModelImpl()"
      ]
     },
     "execution_count": 16,
     "metadata": {},
     "output_type": "execute_result"
    }
   ],
   "source": [
    "model = JustDropoutModelImpl(0.5)\n",
    "model.train() # Mode of model to training"
   ]
  },
  {
   "cell_type": "code",
   "execution_count": 17,
   "id": "c98d7fa6",
   "metadata": {},
   "outputs": [
    {
     "data": {
      "text/plain": [
       "tensor([[ 0.1984, -1.0945],\n",
       "        [-0.2061,  1.8554]])"
      ]
     },
     "execution_count": 17,
     "metadata": {},
     "output_type": "execute_result"
    }
   ],
   "source": [
    "X"
   ]
  },
  {
   "cell_type": "code",
   "execution_count": 18,
   "id": "8b509f32",
   "metadata": {},
   "outputs": [
    {
     "data": {
      "text/plain": [
       "tensor([[ 0.3968, -0.0000],\n",
       "        [-0.4121,  3.7108]])"
      ]
     },
     "execution_count": 18,
     "metadata": {},
     "output_type": "execute_result"
    }
   ],
   "source": [
    "model(X)"
   ]
  },
  {
   "cell_type": "code",
   "execution_count": 19,
   "id": "4e8154f9",
   "metadata": {},
   "outputs": [
    {
     "data": {
      "text/plain": [
       "JustDropoutModelImpl()"
      ]
     },
     "execution_count": 19,
     "metadata": {},
     "output_type": "execute_result"
    }
   ],
   "source": [
    "model.eval()"
   ]
  },
  {
   "cell_type": "code",
   "execution_count": 20,
   "id": "fb319ee9",
   "metadata": {},
   "outputs": [
    {
     "data": {
      "text/plain": [
       "tensor([[ 0.1984, -1.0945],\n",
       "        [-0.2061,  1.8554]])"
      ]
     },
     "execution_count": 20,
     "metadata": {},
     "output_type": "execute_result"
    }
   ],
   "source": [
    "model(X)"
   ]
  },
  {
   "cell_type": "code",
   "execution_count": null,
   "id": "8462e87b",
   "metadata": {},
   "outputs": [],
   "source": []
  }
 ],
 "metadata": {
  "kernelspec": {
   "display_name": "Python 3 (ipykernel)",
   "language": "python",
   "name": "python3"
  },
  "language_info": {
   "codemirror_mode": {
    "name": "ipython",
    "version": 3
   },
   "file_extension": ".py",
   "mimetype": "text/x-python",
   "name": "python",
   "nbconvert_exporter": "python",
   "pygments_lexer": "ipython3",
   "version": "3.10.9"
  }
 },
 "nbformat": 4,
 "nbformat_minor": 5
}
